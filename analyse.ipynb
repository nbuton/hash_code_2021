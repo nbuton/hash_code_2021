{
 "cells": [
  {
   "cell_type": "code",
   "execution_count": 8,
   "metadata": {},
   "outputs": [],
   "source": [
    "fichier = open(\"data/a.txt\")\n",
    "all_lines = fichier.readlines()\n",
    "tab = all_lines[0].split(\" \")\n",
    "simulation_duration = int(tab[0])\n",
    "intersections_number = int(tab[1])\n",
    "streets_number = int(tab[2])\n",
    "cars_number = int(tab[3])\n",
    "bonnus_point = int(tab[4])\n",
    "\n",
    "dico_streets = dict()\n",
    "for k in range(streets_number):\n",
    "    start_inter,end_inter,street_name,lenght = all_lines[k+1].split(\" \")\n",
    "    dico_streets[street_name]=(start_inter,end_inter,lenght)\n",
    "\n",
    "list_of_path = []\n",
    "for k in range(cars_number):\n",
    "    tab = all_lines[k+1+streets_number].split(\" \")\n",
    "    nb_streets=tab[0]\n",
    "    list_of_streets = tab[0]\n",
    "    list_of_path.append((nb_streets,list_of_streets))\n"
   ]
  },
  {
   "cell_type": "code",
   "execution_count": 2,
   "metadata": {},
   "outputs": [
    {
     "name": "stdout",
     "output_type": "stream",
     "text": [
      "['6 4 5 2 1000\\n', '2 0 rue-de-londres 1\\n', '0 1 rue-d-amsterdam 1\\n', '3 1 rue-d-athenes 1\\n', '2 3 rue-de-rome 2\\n', '1 2 rue-de-moscou 3\\n', '4 rue-de-londres rue-d-amsterdam rue-de-moscou rue-de-rome\\n', '3 rue-d-athenes rue-de-moscou rue-de-londres\\n']\n"
     ]
    }
   ],
   "source": [
    "print(all_lines)"
   ]
  },
  {
   "cell_type": "code",
   "execution_count": null,
   "metadata": {},
   "outputs": [],
   "source": []
  }
 ],
 "metadata": {
  "kernelspec": {
   "display_name": "Python 3",
   "language": "python",
   "name": "python3"
  },
  "language_info": {
   "codemirror_mode": {
    "name": "ipython",
    "version": 3
   },
   "file_extension": ".py",
   "mimetype": "text/x-python",
   "name": "python",
   "nbconvert_exporter": "python",
   "pygments_lexer": "ipython3",
   "version": "3.8.5"
  }
 },
 "nbformat": 4,
 "nbformat_minor": 4
}
