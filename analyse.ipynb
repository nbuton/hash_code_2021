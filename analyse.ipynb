{
 "cells": [
  {
   "cell_type": "code",
   "execution_count": 12,
   "metadata": {},
   "outputs": [
    {
     "name": "stdout",
     "output_type": "stream",
     "text": [
      "a\n",
      "simulation_duration : 6\n",
      "intersections_number : 4\n",
      "streets_number : 5\n",
      "cars_number : 2\n",
      "bonnus_point : 1000\n",
      "b\n",
      "simulation_duration : 5070\n",
      "intersections_number : 7073\n",
      "streets_number : 9102\n",
      "cars_number : 1000\n",
      "bonnus_point : 1000\n",
      "c\n",
      "simulation_duration : 1640\n",
      "intersections_number : 10000\n",
      "streets_number : 35030\n",
      "cars_number : 1000\n",
      "bonnus_point : 100\n",
      "d\n",
      "simulation_duration : 8071\n",
      "intersections_number : 8000\n",
      "streets_number : 95928\n",
      "cars_number : 1000\n",
      "bonnus_point : 1000\n",
      "e\n",
      "simulation_duration : 676\n",
      "intersections_number : 500\n",
      "streets_number : 998\n",
      "cars_number : 1000\n",
      "bonnus_point : 500\n"
     ]
    }
   ],
   "source": [
    "list_file = [\"a\",\"b\",\"c\",\"d\",\"e\"]\n",
    "for fichier in list_file:\n",
    "    print(fichier)\n",
    "    fichier = open(\"data/\"+fichier+\".txt\")\n",
    "    all_lines = fichier.readlines()\n",
    "    tab = all_lines[0].split(\" \")\n",
    "    simulation_duration = int(tab[0])\n",
    "    intersections_number = int(tab[1])\n",
    "    streets_number = int(tab[2])\n",
    "    cars_number = int(tab[3])\n",
    "    bonnus_point = int(tab[4])\n",
    "\n",
    "    dico_streets = dict()\n",
    "    for k in range(streets_number):\n",
    "        start_inter,end_inter,street_name,lenght = all_lines[k+1].split(\" \")\n",
    "        dico_streets[street_name]=(start_inter,end_inter,lenght)\n",
    "\n",
    "    list_of_path = []\n",
    "    for k in range(cars_number):\n",
    "        tab = all_lines[k+1+streets_number].split(\" \")\n",
    "        nb_streets=tab[0]\n",
    "        list_of_streets = tab[0]\n",
    "        list_of_path.append((nb_streets,list_of_streets))\n",
    "    print(\"simulation_duration :\",simulation_duration)\n",
    "    print(\"intersections_number :\",intersections_number)\n",
    "    print(\"streets_number :\",streets_number)\n",
    "    print(\"cars_number :\",cars_number)\n",
    "    print(\"bonnus_point :\",bonnus_point)"
   ]
  },
  {
   "cell_type": "code",
   "execution_count": 2,
   "metadata": {},
   "outputs": [
    {
     "name": "stdout",
     "output_type": "stream",
     "text": [
      "['6 4 5 2 1000\\n', '2 0 rue-de-londres 1\\n', '0 1 rue-d-amsterdam 1\\n', '3 1 rue-d-athenes 1\\n', '2 3 rue-de-rome 2\\n', '1 2 rue-de-moscou 3\\n', '4 rue-de-londres rue-d-amsterdam rue-de-moscou rue-de-rome\\n', '3 rue-d-athenes rue-de-moscou rue-de-londres\\n']\n"
     ]
    }
   ],
   "source": [
    "print(all_lines)"
   ]
  },
  {
   "cell_type": "code",
   "execution_count": 9,
   "metadata": {},
   "outputs": [
    {
     "name": "stdout",
     "output_type": "stream",
     "text": [
      "simulation_duration : 6\n",
      "intersections_number : 4\n",
      "streets_number : 5\n",
      "cars_number : 2\n",
      "bonnus_point : 1000\n"
     ]
    }
   ],
   "source": [
    "def "
   ]
  },
  {
   "cell_type": "code",
   "execution_count": null,
   "metadata": {},
   "outputs": [],
   "source": []
  }
 ],
 "metadata": {
  "kernelspec": {
   "display_name": "Python 3",
   "language": "python",
   "name": "python3"
  },
  "language_info": {
   "codemirror_mode": {
    "name": "ipython",
    "version": 3
   },
   "file_extension": ".py",
   "mimetype": "text/x-python",
   "name": "python",
   "nbconvert_exporter": "python",
   "pygments_lexer": "ipython3",
   "version": "3.8.5"
  }
 },
 "nbformat": 4,
 "nbformat_minor": 4
}
