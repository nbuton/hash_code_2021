{
 "cells": [
  {
   "cell_type": "code",
   "execution_count": 3,
   "metadata": {},
   "outputs": [
    {
     "ename": "TypeError",
     "evalue": "'str' object cannot be interpreted as an integer",
     "output_type": "error",
     "traceback": [
      "\u001b[0;31m---------------------------------------------------------------------------\u001b[0m",
      "\u001b[0;31mTypeError\u001b[0m                                 Traceback (most recent call last)",
      "\u001b[0;32m<ipython-input-3-496848c9e2e5>\u001b[0m in \u001b[0;36m<module>\u001b[0;34m\u001b[0m\n\u001b[1;32m      8\u001b[0m \u001b[0;34m\u001b[0m\u001b[0m\n\u001b[1;32m      9\u001b[0m \u001b[0mdico_streets\u001b[0m \u001b[0;34m=\u001b[0m \u001b[0mdict\u001b[0m\u001b[0;34m(\u001b[0m\u001b[0;34m)\u001b[0m\u001b[0;34m\u001b[0m\u001b[0;34m\u001b[0m\u001b[0m\n\u001b[0;32m---> 10\u001b[0;31m \u001b[0;32mfor\u001b[0m \u001b[0mk\u001b[0m \u001b[0;32min\u001b[0m \u001b[0mrange\u001b[0m\u001b[0;34m(\u001b[0m\u001b[0mstreets_number\u001b[0m\u001b[0;34m)\u001b[0m\u001b[0;34m:\u001b[0m\u001b[0;34m\u001b[0m\u001b[0;34m\u001b[0m\u001b[0m\n\u001b[0m\u001b[1;32m     11\u001b[0m     \u001b[0mstart_inter\u001b[0m\u001b[0;34m,\u001b[0m\u001b[0mend_inter\u001b[0m\u001b[0;34m,\u001b[0m\u001b[0mstreet_name\u001b[0m\u001b[0;34m,\u001b[0m\u001b[0mlenght\u001b[0m \u001b[0;34m=\u001b[0m \u001b[0mall_lines\u001b[0m\u001b[0;34m[\u001b[0m\u001b[0mk\u001b[0m\u001b[0;34m+\u001b[0m\u001b[0;36m4\u001b[0m\u001b[0;34m]\u001b[0m\u001b[0;34m\u001b[0m\u001b[0;34m\u001b[0m\u001b[0m\n\u001b[1;32m     12\u001b[0m     \u001b[0mdico_streets\u001b[0m\u001b[0;34m[\u001b[0m\u001b[0mstreet_name\u001b[0m\u001b[0;34m]\u001b[0m\u001b[0;34m=\u001b[0m\u001b[0;34m(\u001b[0m\u001b[0mstart_inter\u001b[0m\u001b[0;34m,\u001b[0m\u001b[0mend_inter\u001b[0m\u001b[0;34m,\u001b[0m\u001b[0mlenght\u001b[0m\u001b[0;34m)\u001b[0m\u001b[0;34m\u001b[0m\u001b[0;34m\u001b[0m\u001b[0m\n",
      "\u001b[0;31mTypeError\u001b[0m: 'str' object cannot be interpreted as an integer"
     ]
    }
   ],
   "source": [
    "fichier = open(\"a.txt\")\n",
    "all_lines = fichier.readlines()\n",
    "simulation_duration = int(all_lines[0])\n",
    "intersections_number = int(all_lines[1])\n",
    "streets_number = int(all_lines[2])\n",
    "cars_number = int(all_lines[3])\n",
    "bonnus_point = int(all_lines[4])\n",
    "\n",
    "dico_streets = dict()\n",
    "for k in range(streets_number):\n",
    "    start_inter,end_inter,street_name,lenght = all_lines[k+4]\n",
    "    dico_streets[street_name]=(start_inter,end_inter,lenght)\n",
    "\n",
    "list_of_path = []\n",
    "for k in range(cars_number):\n",
    "    nb_streets, list_of_streets = all_lines[k+4+streets_number]\n",
    "    list_of_path.append((nb_streets,list_of_streets))\n"
   ]
  },
  {
   "cell_type": "code",
   "execution_count": 2,
   "metadata": {},
   "outputs": [
    {
     "name": "stdout",
     "output_type": "stream",
     "text": [
      "['6 4 5 2 1000\\n', '2 0 rue-de-londres 1\\n', '0 1 rue-d-amsterdam 1\\n', '3 1 rue-d-athenes 1\\n', '2 3 rue-de-rome 2\\n', '1 2 rue-de-moscou 3\\n', '4 rue-de-londres rue-d-amsterdam rue-de-moscou rue-de-rome\\n', '3 rue-d-athenes rue-de-moscou rue-de-londres\\n']\n"
     ]
    }
   ],
   "source": [
    "print(all_lines)"
   ]
  },
  {
   "cell_type": "code",
   "execution_count": null,
   "metadata": {},
   "outputs": [],
   "source": []
  }
 ],
 "metadata": {
  "kernelspec": {
   "display_name": "Python 3",
   "language": "python",
   "name": "python3"
  },
  "language_info": {
   "codemirror_mode": {
    "name": "ipython",
    "version": 3
   },
   "file_extension": ".py",
   "mimetype": "text/x-python",
   "name": "python",
   "nbconvert_exporter": "python",
   "pygments_lexer": "ipython3",
   "version": "3.8.5"
  }
 },
 "nbformat": 4,
 "nbformat_minor": 4
}
